{
 "cells": [
  {
   "cell_type": "code",
   "execution_count": 173,
   "metadata": {},
   "outputs": [],
   "source": [
    "import numpy as np\n",
    "import pandas as pd\n",
    "import matplotlib.pyplot as plt\n",
    "import seaborn as sns\n",
    "%matplotlib inline\n",
    "sns.set_style()"
   ]
  },
  {
   "cell_type": "code",
   "execution_count": 174,
   "metadata": {},
   "outputs": [
    {
     "name": "stdout",
     "output_type": "stream",
     "text": [
      "The size of training data is 42000 and that of test data is 28000\n"
     ]
    }
   ],
   "source": [
    "train =pd.read_csv('train.csv')\n",
    "test=pd.read_csv('test.csv')\n",
    "y_train=train['label']\n",
    "print(f'The size of training data is {train.shape[0]} and that of test data is {test.shape[0]}')"
   ]
  },
  {
   "cell_type": "code",
   "execution_count": 175,
   "metadata": {},
   "outputs": [
    {
     "data": {
      "text/plain": [
       "0        1\n",
       "1        0\n",
       "2        1\n",
       "3        4\n",
       "4        0\n",
       "        ..\n",
       "41995    0\n",
       "41996    1\n",
       "41997    7\n",
       "41998    6\n",
       "41999    9\n",
       "Name: label, Length: 42000, dtype: int64"
      ]
     },
     "execution_count": 175,
     "metadata": {},
     "output_type": "execute_result"
    }
   ],
   "source": [
    "y_train"
   ]
  },
  {
   "cell_type": "code",
   "execution_count": 176,
   "metadata": {},
   "outputs": [
    {
     "data": {
      "text/plain": [
       "array([[0, 0, 0, ..., 0, 0, 0],\n",
       "       [0, 0, 0, ..., 0, 0, 0],\n",
       "       [0, 0, 0, ..., 0, 0, 0],\n",
       "       ...,\n",
       "       [0, 0, 0, ..., 0, 0, 0],\n",
       "       [0, 0, 0, ..., 0, 0, 0],\n",
       "       [0, 0, 0, ..., 0, 0, 0]], dtype=int64)"
      ]
     },
     "execution_count": 176,
     "metadata": {},
     "output_type": "execute_result"
    }
   ],
   "source": [
    "x_train=train.drop('label',axis=1).values\n",
    "x_train"
   ]
  },
  {
   "cell_type": "code",
   "execution_count": 177,
   "metadata": {},
   "outputs": [
    {
     "data": {
      "image/png": "[encoded data removed]",
      "text/plain": [
       "<Figure size 432x288 with 1 Axes>"
      ]
     },
     "metadata": {
      "needs_background": "light"
     },
     "output_type": "display_data"
    }
   ],
   "source": [
    "plt.imshow(x_train[41999].reshape(28,28),cmap='binary')\n",
    "plt.show()"
   ]
  },
  {
   "cell_type": "code",
   "execution_count": 178,
   "metadata": {},
   "outputs": [],
   "source": [
    "x_train=x_train.reshape(42000,28,28)"
   ]
  },
  {
   "cell_type": "code",
   "execution_count": 179,
   "metadata": {},
   "outputs": [
    {
     "data": {
      "text/plain": [
       "(42000, 28, 28)"
      ]
     },
     "execution_count": 179,
     "metadata": {},
     "output_type": "execute_result"
    }
   ],
   "source": [
    "x_train.shape"
   ]
  },
  {
   "cell_type": "code",
   "execution_count": 180,
   "metadata": {},
   "outputs": [],
   "source": [
    "from sklearn.model_selection import train_test_split\n",
    "x_train,x_val,y_train,y_val=train_test_split(x_train,y_train,test_size=0.10,random_state=19)"
   ]
  },
  {
   "cell_type": "code",
   "execution_count": 181,
   "metadata": {},
   "outputs": [
    {
     "data": {
      "text/plain": [
       "(37800, 28, 28)"
      ]
     },
     "execution_count": 181,
     "metadata": {},
     "output_type": "execute_result"
    }
   ],
   "source": [
    "x_train.shape"
   ]
  },
  {
   "cell_type": "code",
   "execution_count": 182,
   "metadata": {},
   "outputs": [
    {
     "data": {
      "text/plain": [
       "(4200, 28, 28)"
      ]
     },
     "execution_count": 182,
     "metadata": {},
     "output_type": "execute_result"
    }
   ],
   "source": [
    "x_val.shape"
   ]
  },
  {
   "cell_type": "code",
   "execution_count": 183,
   "metadata": {},
   "outputs": [],
   "source": [
    "from tensorflow.keras.utils import to_categorical\n",
    "y_cat_train=to_categorical(y_train,num_classes=10)\n",
    "y_cat_val=to_categorical(y_val,num_classes=10)"
   ]
  },
  {
   "cell_type": "code",
   "execution_count": 184,
   "metadata": {},
   "outputs": [
    {
     "data": {
      "image/png": "[encoded data removed]",
      "text/plain": [
       "<Figure size 432x288 with 1 Axes>"
      ]
     },
     "metadata": {
      "needs_background": "light"
     },
     "output_type": "display_data"
    }
   ],
   "source": [
    "random_image=x_train[78]\n",
    "random_label=y_train[78]\n",
    "plt.imshow(random_image,cmap='binary')\n",
    "plt.title(random_label,fontsize=20,weight='bold',color='red')\n",
    "plt.show()"
   ]
  },
  {
   "cell_type": "code",
   "execution_count": 185,
   "metadata": {},
   "outputs": [
    {
     "data": {
      "text/plain": [
       "255"
      ]
     },
     "execution_count": 185,
     "metadata": {},
     "output_type": "execute_result"
    }
   ],
   "source": [
    "random_image.max()"
   ]
  },
  {
   "cell_type": "code",
   "execution_count": 186,
   "metadata": {},
   "outputs": [
    {
     "data": {
      "text/plain": [
       "0"
      ]
     },
     "execution_count": 186,
     "metadata": {},
     "output_type": "execute_result"
    }
   ],
   "source": [
    "random_image.min()"
   ]
  },
  {
   "cell_type": "code",
   "execution_count": 187,
   "metadata": {},
   "outputs": [],
   "source": [
    "x_train_scaled=x_train/255\n",
    "x_val_scaled=x_val/255"
   ]
  },
  {
   "cell_type": "code",
   "execution_count": 188,
   "metadata": {},
   "outputs": [
    {
     "data": {
      "image/png": "[encoded data removed]",
      "text/plain": [
       "<Figure size 432x288 with 1 Axes>"
      ]
     },
     "metadata": {
      "needs_background": "light"
     },
     "output_type": "display_data"
    }
   ],
   "source": [
    "plt.imshow(x_train_scaled[78],cmap='binary')\n",
    "plt.title(y_train[78],fontsize=20,weight='bold',color='red')\n",
    "plt.show()"
   ]
  },
  {
   "cell_type": "code",
   "execution_count": 189,
   "metadata": {},
   "outputs": [],
   "source": [
    "x_train_final = x_train_scaled.reshape(x_train_scaled.shape[0],28,28,1)\n",
    "x_val_final = x_val_scaled.reshape(x_val_scaled.shape[0],28,28,1)"
   ]
  },
  {
   "cell_type": "code",
   "execution_count": 190,
   "metadata": {},
   "outputs": [],
   "source": [
    "from tensorflow.keras.models import Sequential\n",
    "from tensorflow.keras.layers import Dense,Conv2D,MaxPool2D,Flatten,Dropout"
   ]
  },
  {
   "cell_type": "code",
   "execution_count": 191,
   "metadata": {},
   "outputs": [],
   "source": [
    "# Define the optimizer\n",
    "from keras.optimizers import RMSprop\n",
    "optimizer = RMSprop(lr=0.001, rho=0.9, epsilon=1e-08, decay=0.0)"
   ]
  },
  {
   "cell_type": "code",
   "execution_count": 192,
   "metadata": {},
   "outputs": [],
   "source": [
    "model=Sequential()\n",
    "model.add(Conv2D(filters=32,kernel_size=(5,5),strides=(1,1),input_shape=(28,28,1),padding='Same',activation='relu'))\n",
    "model.add(Conv2D(filters=32,kernel_size=(5,5),strides=(1,1),input_shape=(28,28,1),padding='Same',activation='relu'))\n",
    "model.add(MaxPool2D(pool_size=(2,2)))\n",
    "model.add(Dropout(0.25))\n",
    "\n",
    "model.add(Conv2D(filters=64,kernel_size=(3,3),strides=(1,1),input_shape=(28,28,1),padding='Same',activation='relu'))\n",
    "model.add(Conv2D(filters=64,kernel_size=(3,3),strides=(1,1),input_shape=(28,28,1),padding='Same',activation='relu'))\n",
    "model.add(MaxPool2D(pool_size=(2,2)))\n",
    "model.add(Dropout(0.25))\n",
    "\n",
    "model.add(Flatten())\n",
    "model.add(Dense(256,activation='relu'))\n",
    "model.add(Dropout(0.5))\n",
    "model.add(Dense(10,activation='softmax'))\n",
    "\n",
    "model.compile(loss='categorical_crossentropy',optimizer='adam',metrics=['accuracy'])"
   ]
  },
  {
   "cell_type": "code",
   "execution_count": 193,
   "metadata": {},
   "outputs": [],
   "source": [
    "from tensorflow.keras.callbacks import EarlyStopping\n",
    "early_stop= EarlyStopping(monitor='val_loss',patience=2)"
   ]
  },
  {
   "cell_type": "code",
   "execution_count": 194,
   "metadata": {},
   "outputs": [],
   "source": [
    "from tensorflow.keras.preprocessing.image import ImageDataGenerator"
   ]
  },
  {
   "cell_type": "code",
   "execution_count": 195,
   "metadata": {},
   "outputs": [],
   "source": [
    "image_gen=ImageDataGenerator(rotation_range=10,width_shift_range=0.1,height_shift_range=0.1,shear_range=0.1,zoom_range=0.1,fill_mode='nearest')"
   ]
  },
  {
   "cell_type": "code",
   "execution_count": 196,
   "metadata": {},
   "outputs": [],
   "source": [
    "train_image_gen=image_gen.fit(x_train_final)"
   ]
  },
  {
   "cell_type": "code",
   "execution_count": 197,
   "metadata": {},
   "outputs": [],
   "source": [
    "train_image_gen"
   ]
  },
  {
   "cell_type": "code",
   "execution_count": 200,
   "metadata": {},
   "outputs": [],
   "source": [
    "# Set a learning rate annealer\n",
    "from keras.callbacks import ReduceLROnPlateau\n",
    "learning_rate_reduction = ReduceLROnPlateau(monitor='val_accuracy', \n",
    "                                            patience=3, \n",
    "                                            verbose=1, \n",
    "                                            factor=0.5, \n",
    "                                            min_lr=0.00001)"
   ]
  },
  {
   "cell_type": "code",
   "execution_count": 201,
   "metadata": {},
   "outputs": [
    {
     "name": "stdout",
     "output_type": "stream",
     "text": [
      "Epoch 1/30\n",
      "1182/1182 [==============================] - 167s 141ms/step - loss: 0.0928 - accuracy: 0.9733 - val_loss: 0.0506 - val_accuracy: 0.9886 - lr: 0.0010\n",
      "Epoch 2/30\n",
      "1182/1182 [==============================] - 185s 156ms/step - loss: 0.0793 - accuracy: 0.9772 - val_loss: 0.0436 - val_accuracy: 0.9893 - lr: 0.0010\n",
      "Epoch 3/30\n",
      "1182/1182 [==============================] - 191s 162ms/step - loss: 0.0735 - accuracy: 0.9784 - val_loss: 0.0320 - val_accuracy: 0.9912 - lr: 0.0010\n",
      "Epoch 4/30\n",
      "1182/1182 [==============================] - 184s 156ms/step - loss: 0.0675 - accuracy: 0.9808 - val_loss: 0.0316 - val_accuracy: 0.9912 - lr: 0.0010\n",
      "Epoch 5/30\n",
      "1182/1182 [==============================] - 191s 162ms/step - loss: 0.0593 - accuracy: 0.9820 - val_loss: 0.0368 - val_accuracy: 0.9879 - lr: 0.0010\n",
      "Epoch 6/30\n",
      "1182/1182 [==============================] - 158s 134ms/step - loss: 0.0599 - accuracy: 0.9826 - val_loss: 0.0284 - val_accuracy: 0.9914 - lr: 0.0010\n",
      "Epoch 7/30\n",
      "1182/1182 [==============================] - 160s 135ms/step - loss: 0.0543 - accuracy: 0.9837 - val_loss: 0.0354 - val_accuracy: 0.9902 - lr: 0.0010\n",
      "Epoch 8/30\n",
      "1182/1182 [==============================] - 162s 137ms/step - loss: 0.0528 - accuracy: 0.9839 - val_loss: 0.0363 - val_accuracy: 0.9912 - lr: 0.0010\n",
      "Epoch 9/30\n",
      "1182/1182 [==============================] - ETA: 0s - loss: 0.0540 - accuracy: 0.9844\n",
      "Epoch 00009: ReduceLROnPlateau reducing learning rate to 0.0005000000237487257.\n",
      "1182/1182 [==============================] - 162s 137ms/step - loss: 0.0540 - accuracy: 0.9844 - val_loss: 0.0506 - val_accuracy: 0.9881 - lr: 0.0010\n",
      "Epoch 10/30\n",
      "1182/1182 [==============================] - 166s 140ms/step - loss: 0.0388 - accuracy: 0.9891 - val_loss: 0.0313 - val_accuracy: 0.9919 - lr: 5.0000e-04\n",
      "Epoch 11/30\n",
      "1182/1182 [==============================] - 164s 139ms/step - loss: 0.0340 - accuracy: 0.9901 - val_loss: 0.0263 - val_accuracy: 0.9940 - lr: 5.0000e-04\n",
      "Epoch 12/30\n",
      "1182/1182 [==============================] - 166s 141ms/step - loss: 0.0322 - accuracy: 0.9904 - val_loss: 0.0325 - val_accuracy: 0.9936 - lr: 5.0000e-04\n",
      "Epoch 13/30\n",
      "1182/1182 [==============================] - 166s 141ms/step - loss: 0.0316 - accuracy: 0.9903 - val_loss: 0.0278 - val_accuracy: 0.9933 - lr: 5.0000e-04\n",
      "Epoch 14/30\n",
      "1182/1182 [==============================] - ETA: 0s - loss: 0.0303 - accuracy: 0.9908\n",
      "Epoch 00014: ReduceLROnPlateau reducing learning rate to 0.0002500000118743628.\n",
      "1182/1182 [==============================] - 161s 136ms/step - loss: 0.0303 - accuracy: 0.9908 - val_loss: 0.0347 - val_accuracy: 0.9924 - lr: 5.0000e-04\n",
      "Epoch 15/30\n",
      "1182/1182 [==============================] - 163s 138ms/step - loss: 0.0250 - accuracy: 0.9924 - val_loss: 0.0250 - val_accuracy: 0.9938 - lr: 2.5000e-04\n",
      "Epoch 16/30\n",
      "1182/1182 [==============================] - 162s 137ms/step - loss: 0.0214 - accuracy: 0.9929 - val_loss: 0.0310 - val_accuracy: 0.9931 - lr: 2.5000e-04\n",
      "Epoch 17/30\n",
      "1182/1182 [==============================] - ETA: 0s - loss: 0.0229 - accuracy: 0.9931\n",
      "Epoch 00017: ReduceLROnPlateau reducing learning rate to 0.0001250000059371814.\n",
      "1182/1182 [==============================] - 161s 136ms/step - loss: 0.0229 - accuracy: 0.9931 - val_loss: 0.0278 - val_accuracy: 0.9936 - lr: 2.5000e-04\n",
      "Epoch 18/30\n",
      "1182/1182 [==============================] - 162s 137ms/step - loss: 0.0186 - accuracy: 0.9942 - val_loss: 0.0258 - val_accuracy: 0.9943 - lr: 1.2500e-04\n",
      "Epoch 19/30\n",
      "1182/1182 [==============================] - 166s 140ms/step - loss: 0.0204 - accuracy: 0.9938 - val_loss: 0.0272 - val_accuracy: 0.9945 - lr: 1.2500e-04\n",
      "Epoch 20/30\n",
      "1182/1182 [==============================] - 165s 140ms/step - loss: 0.0189 - accuracy: 0.9937 - val_loss: 0.0264 - val_accuracy: 0.9943 - lr: 1.2500e-04\n",
      "Epoch 21/30\n",
      "1182/1182 [==============================] - 163s 138ms/step - loss: 0.0195 - accuracy: 0.9940 - val_loss: 0.0260 - val_accuracy: 0.9950 - lr: 1.2500e-04\n",
      "Epoch 22/30\n",
      "1182/1182 [==============================] - 163s 138ms/step - loss: 0.0168 - accuracy: 0.9949 - val_loss: 0.0278 - val_accuracy: 0.9952 - lr: 1.2500e-04\n",
      "Epoch 23/30\n",
      "1182/1182 [==============================] - 163s 138ms/step - loss: 0.0194 - accuracy: 0.9945 - val_loss: 0.0261 - val_accuracy: 0.9936 - lr: 1.2500e-04\n",
      "Epoch 24/30\n",
      "1182/1182 [==============================] - 162s 137ms/step - loss: 0.0178 - accuracy: 0.9946 - val_loss: 0.0272 - val_accuracy: 0.9933 - lr: 1.2500e-04\n",
      "Epoch 25/30\n",
      "1182/1182 [==============================] - ETA: 0s - loss: 0.0178 - accuracy: 0.9948\n",
      "Epoch 00025: ReduceLROnPlateau reducing learning rate to 6.25000029685907e-05.\n",
      "1182/1182 [==============================] - 163s 138ms/step - loss: 0.0178 - accuracy: 0.9948 - val_loss: 0.0266 - val_accuracy: 0.9938 - lr: 1.2500e-04\n",
      "Epoch 26/30\n",
      "1182/1182 [==============================] - 165s 140ms/step - loss: 0.0171 - accuracy: 0.9951 - val_loss: 0.0269 - val_accuracy: 0.9938 - lr: 6.2500e-05\n",
      "Epoch 27/30\n",
      "1182/1182 [==============================] - 163s 138ms/step - loss: 0.0157 - accuracy: 0.9952 - val_loss: 0.0266 - val_accuracy: 0.9938 - lr: 6.2500e-05\n",
      "Epoch 28/30\n",
      "1182/1182 [==============================] - ETA: 0s - loss: 0.0164 - accuracy: 0.9951\n",
      "Epoch 00028: ReduceLROnPlateau reducing learning rate to 3.125000148429535e-05.\n",
      "1182/1182 [==============================] - 163s 138ms/step - loss: 0.0164 - accuracy: 0.9951 - val_loss: 0.0247 - val_accuracy: 0.9943 - lr: 6.2500e-05\n",
      "Epoch 29/30\n",
      "1182/1182 [==============================] - 163s 138ms/step - loss: 0.0158 - accuracy: 0.9949 - val_loss: 0.0267 - val_accuracy: 0.9940 - lr: 3.1250e-05\n",
      "Epoch 30/30\n",
      "1182/1182 [==============================] - 164s 138ms/step - loss: 0.0142 - accuracy: 0.9954 - val_loss: 0.0267 - val_accuracy: 0.9938 - lr: 3.1250e-05\n"
     ]
    },
    {
     "data": {
      "text/plain": [
       "<tensorflow.python.keras.callbacks.History at 0x22948f24220>"
      ]
     },
     "execution_count": 201,
     "metadata": {},
     "output_type": "execute_result"
    }
   ],
   "source": [
    "model.fit_generator(image_gen.flow(x_train_final,y_cat_train),epochs=30,validation_data=(x_val_final,y_cat_val),callbacks=[learning_rate_reduction])"
   ]
  },
  {
   "cell_type": "code",
   "execution_count": 202,
   "metadata": {},
   "outputs": [
    {
     "data": {
      "text/html": [
       "<div>\n",
       "<style scoped>\n",
       "    .dataframe tbody tr th:only-of-type {\n",
       "        vertical-align: middle;\n",
       "    }\n",
       "\n",
       "    .dataframe tbody tr th {\n",
       "        vertical-align: top;\n",
       "    }\n",
       "\n",
       "    .dataframe thead th {\n",
       "        text-align: right;\n",
       "    }\n",
       "</style>\n",
       "<table border=\"1\" class=\"dataframe\">\n",
       "  <thead>\n",
       "    <tr style=\"text-align: right;\">\n",
       "      <th></th>\n",
       "      <th>loss</th>\n",
       "      <th>accuracy</th>\n",
       "      <th>val_loss</th>\n",
       "      <th>val_accuracy</th>\n",
       "      <th>lr</th>\n",
       "    </tr>\n",
       "  </thead>\n",
       "  <tbody>\n",
       "    <tr>\n",
       "      <th>0</th>\n",
       "      <td>0.092779</td>\n",
       "      <td>0.973333</td>\n",
       "      <td>0.050607</td>\n",
       "      <td>0.988571</td>\n",
       "      <td>0.001000</td>\n",
       "    </tr>\n",
       "    <tr>\n",
       "      <th>1</th>\n",
       "      <td>0.079266</td>\n",
       "      <td>0.977249</td>\n",
       "      <td>0.043573</td>\n",
       "      <td>0.989286</td>\n",
       "      <td>0.001000</td>\n",
       "    </tr>\n",
       "    <tr>\n",
       "      <th>2</th>\n",
       "      <td>0.073548</td>\n",
       "      <td>0.978386</td>\n",
       "      <td>0.031954</td>\n",
       "      <td>0.991190</td>\n",
       "      <td>0.001000</td>\n",
       "    </tr>\n",
       "    <tr>\n",
       "      <th>3</th>\n",
       "      <td>0.067501</td>\n",
       "      <td>0.980794</td>\n",
       "      <td>0.031600</td>\n",
       "      <td>0.991190</td>\n",
       "      <td>0.001000</td>\n",
       "    </tr>\n",
       "    <tr>\n",
       "      <th>4</th>\n",
       "      <td>0.059331</td>\n",
       "      <td>0.982037</td>\n",
       "      <td>0.036806</td>\n",
       "      <td>0.987857</td>\n",
       "      <td>0.001000</td>\n",
       "    </tr>\n",
       "    <tr>\n",
       "      <th>5</th>\n",
       "      <td>0.059882</td>\n",
       "      <td>0.982593</td>\n",
       "      <td>0.028362</td>\n",
       "      <td>0.991429</td>\n",
       "      <td>0.001000</td>\n",
       "    </tr>\n",
       "    <tr>\n",
       "      <th>6</th>\n",
       "      <td>0.054294</td>\n",
       "      <td>0.983651</td>\n",
       "      <td>0.035403</td>\n",
       "      <td>0.990238</td>\n",
       "      <td>0.001000</td>\n",
       "    </tr>\n",
       "    <tr>\n",
       "      <th>7</th>\n",
       "      <td>0.052775</td>\n",
       "      <td>0.983889</td>\n",
       "      <td>0.036283</td>\n",
       "      <td>0.991190</td>\n",
       "      <td>0.001000</td>\n",
       "    </tr>\n",
       "    <tr>\n",
       "      <th>8</th>\n",
       "      <td>0.054025</td>\n",
       "      <td>0.984365</td>\n",
       "      <td>0.050575</td>\n",
       "      <td>0.988095</td>\n",
       "      <td>0.001000</td>\n",
       "    </tr>\n",
       "    <tr>\n",
       "      <th>9</th>\n",
       "      <td>0.038831</td>\n",
       "      <td>0.989127</td>\n",
       "      <td>0.031264</td>\n",
       "      <td>0.991905</td>\n",
       "      <td>0.000500</td>\n",
       "    </tr>\n",
       "    <tr>\n",
       "      <th>10</th>\n",
       "      <td>0.034002</td>\n",
       "      <td>0.990132</td>\n",
       "      <td>0.026292</td>\n",
       "      <td>0.994048</td>\n",
       "      <td>0.000500</td>\n",
       "    </tr>\n",
       "    <tr>\n",
       "      <th>11</th>\n",
       "      <td>0.032206</td>\n",
       "      <td>0.990397</td>\n",
       "      <td>0.032522</td>\n",
       "      <td>0.993571</td>\n",
       "      <td>0.000500</td>\n",
       "    </tr>\n",
       "    <tr>\n",
       "      <th>12</th>\n",
       "      <td>0.031555</td>\n",
       "      <td>0.990265</td>\n",
       "      <td>0.027785</td>\n",
       "      <td>0.993333</td>\n",
       "      <td>0.000500</td>\n",
       "    </tr>\n",
       "    <tr>\n",
       "      <th>13</th>\n",
       "      <td>0.030296</td>\n",
       "      <td>0.990847</td>\n",
       "      <td>0.034651</td>\n",
       "      <td>0.992381</td>\n",
       "      <td>0.000500</td>\n",
       "    </tr>\n",
       "    <tr>\n",
       "      <th>14</th>\n",
       "      <td>0.024958</td>\n",
       "      <td>0.992355</td>\n",
       "      <td>0.024980</td>\n",
       "      <td>0.993810</td>\n",
       "      <td>0.000250</td>\n",
       "    </tr>\n",
       "    <tr>\n",
       "      <th>15</th>\n",
       "      <td>0.021368</td>\n",
       "      <td>0.992884</td>\n",
       "      <td>0.031003</td>\n",
       "      <td>0.993095</td>\n",
       "      <td>0.000250</td>\n",
       "    </tr>\n",
       "    <tr>\n",
       "      <th>16</th>\n",
       "      <td>0.022942</td>\n",
       "      <td>0.993095</td>\n",
       "      <td>0.027786</td>\n",
       "      <td>0.993571</td>\n",
       "      <td>0.000250</td>\n",
       "    </tr>\n",
       "    <tr>\n",
       "      <th>17</th>\n",
       "      <td>0.018592</td>\n",
       "      <td>0.994233</td>\n",
       "      <td>0.025795</td>\n",
       "      <td>0.994286</td>\n",
       "      <td>0.000125</td>\n",
       "    </tr>\n",
       "    <tr>\n",
       "      <th>18</th>\n",
       "      <td>0.020396</td>\n",
       "      <td>0.993810</td>\n",
       "      <td>0.027231</td>\n",
       "      <td>0.994524</td>\n",
       "      <td>0.000125</td>\n",
       "    </tr>\n",
       "    <tr>\n",
       "      <th>19</th>\n",
       "      <td>0.018911</td>\n",
       "      <td>0.993704</td>\n",
       "      <td>0.026374</td>\n",
       "      <td>0.994286</td>\n",
       "      <td>0.000125</td>\n",
       "    </tr>\n",
       "    <tr>\n",
       "      <th>20</th>\n",
       "      <td>0.019512</td>\n",
       "      <td>0.993968</td>\n",
       "      <td>0.025980</td>\n",
       "      <td>0.995000</td>\n",
       "      <td>0.000125</td>\n",
       "    </tr>\n",
       "    <tr>\n",
       "      <th>21</th>\n",
       "      <td>0.016788</td>\n",
       "      <td>0.994947</td>\n",
       "      <td>0.027830</td>\n",
       "      <td>0.995238</td>\n",
       "      <td>0.000125</td>\n",
       "    </tr>\n",
       "    <tr>\n",
       "      <th>22</th>\n",
       "      <td>0.019363</td>\n",
       "      <td>0.994471</td>\n",
       "      <td>0.026105</td>\n",
       "      <td>0.993571</td>\n",
       "      <td>0.000125</td>\n",
       "    </tr>\n",
       "    <tr>\n",
       "      <th>23</th>\n",
       "      <td>0.017783</td>\n",
       "      <td>0.994603</td>\n",
       "      <td>0.027190</td>\n",
       "      <td>0.993333</td>\n",
       "      <td>0.000125</td>\n",
       "    </tr>\n",
       "    <tr>\n",
       "      <th>24</th>\n",
       "      <td>0.017792</td>\n",
       "      <td>0.994815</td>\n",
       "      <td>0.026648</td>\n",
       "      <td>0.993810</td>\n",
       "      <td>0.000125</td>\n",
       "    </tr>\n",
       "    <tr>\n",
       "      <th>25</th>\n",
       "      <td>0.017083</td>\n",
       "      <td>0.995132</td>\n",
       "      <td>0.026865</td>\n",
       "      <td>0.993810</td>\n",
       "      <td>0.000063</td>\n",
       "    </tr>\n",
       "    <tr>\n",
       "      <th>26</th>\n",
       "      <td>0.015741</td>\n",
       "      <td>0.995159</td>\n",
       "      <td>0.026612</td>\n",
       "      <td>0.993810</td>\n",
       "      <td>0.000063</td>\n",
       "    </tr>\n",
       "    <tr>\n",
       "      <th>27</th>\n",
       "      <td>0.016415</td>\n",
       "      <td>0.995106</td>\n",
       "      <td>0.024733</td>\n",
       "      <td>0.994286</td>\n",
       "      <td>0.000063</td>\n",
       "    </tr>\n",
       "    <tr>\n",
       "      <th>28</th>\n",
       "      <td>0.015839</td>\n",
       "      <td>0.994894</td>\n",
       "      <td>0.026748</td>\n",
       "      <td>0.994048</td>\n",
       "      <td>0.000031</td>\n",
       "    </tr>\n",
       "    <tr>\n",
       "      <th>29</th>\n",
       "      <td>0.014231</td>\n",
       "      <td>0.995450</td>\n",
       "      <td>0.026749</td>\n",
       "      <td>0.993810</td>\n",
       "      <td>0.000031</td>\n",
       "    </tr>\n",
       "  </tbody>\n",
       "</table>\n",
       "</div>"
      ],
      "text/plain": [
       "        loss  accuracy  val_loss  val_accuracy        lr\n",
       "0   0.092779  0.973333  0.050607      0.988571  0.001000\n",
       "1   0.079266  0.977249  0.043573      0.989286  0.001000\n",
       "2   0.073548  0.978386  0.031954      0.991190  0.001000\n",
       "3   0.067501  0.980794  0.031600      0.991190  0.001000\n",
       "4   0.059331  0.982037  0.036806      0.987857  0.001000\n",
       "5   0.059882  0.982593  0.028362      0.991429  0.001000\n",
       "6   0.054294  0.983651  0.035403      0.990238  0.001000\n",
       "7   0.052775  0.983889  0.036283      0.991190  0.001000\n",
       "8   0.054025  0.984365  0.050575      0.988095  0.001000\n",
       "9   0.038831  0.989127  0.031264      0.991905  0.000500\n",
       "10  0.034002  0.990132  0.026292      0.994048  0.000500\n",
       "11  0.032206  0.990397  0.032522      0.993571  0.000500\n",
       "12  0.031555  0.990265  0.027785      0.993333  0.000500\n",
       "13  0.030296  0.990847  0.034651      0.992381  0.000500\n",
       "14  0.024958  0.992355  0.024980      0.993810  0.000250\n",
       "15  0.021368  0.992884  0.031003      0.993095  0.000250\n",
       "16  0.022942  0.993095  0.027786      0.993571  0.000250\n",
       "17  0.018592  0.994233  0.025795      0.994286  0.000125\n",
       "18  0.020396  0.993810  0.027231      0.994524  0.000125\n",
       "19  0.018911  0.993704  0.026374      0.994286  0.000125\n",
       "20  0.019512  0.993968  0.025980      0.995000  0.000125\n",
       "21  0.016788  0.994947  0.027830      0.995238  0.000125\n",
       "22  0.019363  0.994471  0.026105      0.993571  0.000125\n",
       "23  0.017783  0.994603  0.027190      0.993333  0.000125\n",
       "24  0.017792  0.994815  0.026648      0.993810  0.000125\n",
       "25  0.017083  0.995132  0.026865      0.993810  0.000063\n",
       "26  0.015741  0.995159  0.026612      0.993810  0.000063\n",
       "27  0.016415  0.995106  0.024733      0.994286  0.000063\n",
       "28  0.015839  0.994894  0.026748      0.994048  0.000031\n",
       "29  0.014231  0.995450  0.026749      0.993810  0.000031"
      ]
     },
     "execution_count": 202,
     "metadata": {},
     "output_type": "execute_result"
    }
   ],
   "source": [
    "metrics=pd.DataFrame(model.history.history)\n",
    "metrics"
   ]
  },
  {
   "cell_type": "code",
   "execution_count": 203,
   "metadata": {},
   "outputs": [
    {
     "data": {
      "image/png": "[encoded data removed]",
      "text/plain": [
       "<Figure size 432x288 with 1 Axes>"
      ]
     },
     "metadata": {
      "needs_background": "light"
     },
     "output_type": "display_data"
    }
   ],
   "source": [
    "metrics[['loss' , 'val_loss']].plot()\n",
    "plt.show()"
   ]
  },
  {
   "cell_type": "code",
   "execution_count": 204,
   "metadata": {},
   "outputs": [
    {
     "data": {
      "image/png": "[encoded data removed]",
      "text/plain": [
       "<Figure size 432x288 with 1 Axes>"
      ]
     },
     "metadata": {
      "needs_background": "light"
     },
     "output_type": "display_data"
    }
   ],
   "source": [
    "metrics[['accuracy' , 'val_accuracy']].plot()\n",
    "plt.show()"
   ]
  },
  {
   "cell_type": "code",
   "execution_count": 205,
   "metadata": {},
   "outputs": [
    {
     "data": {
      "text/plain": [
       "[0.026748649775981903, 0.9938095211982727]"
      ]
     },
     "execution_count": 205,
     "metadata": {},
     "output_type": "execute_result"
    }
   ],
   "source": [
    "model.evaluate(x_val_final, y_cat_val, verbose=0)"
   ]
  },
  {
   "cell_type": "code",
   "execution_count": 206,
   "metadata": {},
   "outputs": [
    {
     "data": {
      "text/plain": [
       "array([7, 7, 5, ..., 8, 1, 4], dtype=int64)"
      ]
     },
     "execution_count": 206,
     "metadata": {},
     "output_type": "execute_result"
    }
   ],
   "source": [
    "y_pred=model.predict_classes(x_val_final)\n",
    "y_pred"
   ]
  },
  {
   "cell_type": "code",
   "execution_count": 207,
   "metadata": {},
   "outputs": [
    {
     "name": "stdout",
     "output_type": "stream",
     "text": [
      "Classification Report\n",
      "              precision    recall  f1-score   support\n",
      "\n",
      "           0       1.00      0.99      1.00       417\n",
      "           1       0.99      1.00      1.00       476\n",
      "           2       1.00      0.99      1.00       384\n",
      "           3       1.00      0.99      1.00       451\n",
      "           4       1.00      0.99      1.00       391\n",
      "           5       0.99      0.99      0.99       424\n",
      "           6       0.99      0.99      0.99       403\n",
      "           7       1.00      1.00      1.00       470\n",
      "           8       0.99      0.99      0.99       383\n",
      "           9       0.98      1.00      0.99       401\n",
      "\n",
      "    accuracy                           0.99      4200\n",
      "   macro avg       0.99      0.99      0.99      4200\n",
      "weighted avg       0.99      0.99      0.99      4200\n",
      "\n",
      "\n",
      "\n",
      "Confusion Matrix\n",
      "[[414   0   0   0   0   0   3   0   0   0]\n",
      " [  0 475   1   0   0   0   0   0   0   0]\n",
      " [  0   0 382   0   0   0   0   1   1   0]\n",
      " [  0   1   0 448   0   0   0   0   0   2]\n",
      " [  0   1   0   0 389   0   0   0   0   1]\n",
      " [  0   0   0   0   0 421   1   0   1   1]\n",
      " [  1   1   0   0   0   2 399   0   0   0]\n",
      " [  0   0   0   0   0   0   0 468   0   2]\n",
      " [  0   0   0   0   1   1   2   0 378   1]\n",
      " [  0   0   0   0   0   0   0   1   0 400]]\n"
     ]
    }
   ],
   "source": [
    "from sklearn.metrics import classification_report ,confusion_matrix\n",
    "print('Classification Report')\n",
    "print(classification_report(y_val,y_pred))\n",
    "print('\\n')\n",
    "print('Confusion Matrix')\n",
    "print(confusion_matrix(y_val,y_pred))"
   ]
  },
  {
   "cell_type": "code",
   "execution_count": 208,
   "metadata": {},
   "outputs": [
    {
     "name": "stdout",
     "output_type": "stream",
     "text": [
      "Prediction:\n",
      "4\n"
     ]
    },
    {
     "data": {
      "text/plain": [
       "<function matplotlib.pyplot.show(*args, **kw)>"
      ]
     },
     "execution_count": 208,
     "metadata": {},
     "output_type": "execute_result"
    },
    {
     "data": {
      "image/png": "[encoded data removed]",
      "text/plain": [
       "<Figure size 432x288 with 1 Axes>"
      ]
     },
     "metadata": {
      "needs_background": "light"
     },
     "output_type": "display_data"
    }
   ],
   "source": [
    "np.random.seed(22)\n",
    "random_selection=np.random.randint(0,4201,size=1)\n",
    "random_sample=x_val_final[random_selection]\n",
    "print('Prediction:')\n",
    "print(model.predict_classes(random_sample.reshape(1,28,28,1))[0])\n",
    "plt.imshow(random_sample.reshape(28,28),cmap='binary')\n",
    "plt.show"
   ]
  },
  {
   "cell_type": "code",
   "execution_count": 209,
   "metadata": {},
   "outputs": [
    {
     "name": "stdout",
     "output_type": "stream",
     "text": [
      "Prediction:\n",
      "9\n"
     ]
    },
    {
     "data": {
      "text/plain": [
       "<function matplotlib.pyplot.show(*args, **kw)>"
      ]
     },
     "execution_count": 209,
     "metadata": {},
     "output_type": "execute_result"
    },
    {
     "data": {
      "image/png": "[encoded data removed]",
      "text/plain": [
       "<Figure size 432x288 with 1 Axes>"
      ]
     },
     "metadata": {
      "needs_background": "light"
     },
     "output_type": "display_data"
    }
   ],
   "source": [
    "np.random.seed(20)\n",
    "random_selection=np.random.randint(0,4201,size=1)\n",
    "random_sample=x_val_final[random_selection]\n",
    "print('Prediction:')\n",
    "print(model.predict_classes(random_sample.reshape(1,28,28,1))[0])\n",
    "plt.imshow(random_sample.reshape(28,28),cmap='binary')\n",
    "plt.show"
   ]
  },
  {
   "cell_type": "code",
   "execution_count": 210,
   "metadata": {},
   "outputs": [
    {
     "name": "stdout",
     "output_type": "stream",
     "text": [
      "Prediction:\n",
      "1\n"
     ]
    },
    {
     "data": {
      "text/plain": [
       "<function matplotlib.pyplot.show(*args, **kw)>"
      ]
     },
     "execution_count": 210,
     "metadata": {},
     "output_type": "execute_result"
    },
    {
     "data": {
      "image/png": "[encoded data removed]",
      "text/plain": [
       "<Figure size 432x288 with 1 Axes>"
      ]
     },
     "metadata": {
      "needs_background": "light"
     },
     "output_type": "display_data"
    }
   ],
   "source": [
    "np.random.seed(19)\n",
    "random_selection=np.random.randint(0,4201,size=1)\n",
    "random_sample=x_val_final[random_selection]\n",
    "print('Prediction:')\n",
    "print(model.predict_classes(random_sample.reshape(1,28,28,1))[0])\n",
    "plt.imshow(random_sample.reshape(28,28),cmap='binary')\n",
    "plt.show"
   ]
  },
  {
   "cell_type": "code",
   "execution_count": 211,
   "metadata": {},
   "outputs": [
    {
     "data": {
      "text/plain": [
       "(28000, 28, 28)"
      ]
     },
     "execution_count": 211,
     "metadata": {},
     "output_type": "execute_result"
    }
   ],
   "source": [
    "# Reshaping test data\n",
    "x_test = test.values\n",
    "x_test = x_test.reshape(28000,28,28)\n",
    "x_test.shape"
   ]
  },
  {
   "cell_type": "code",
   "execution_count": 212,
   "metadata": {},
   "outputs": [],
   "source": [
    "x_test_scaled=x_test/255"
   ]
  },
  {
   "cell_type": "code",
   "execution_count": 213,
   "metadata": {},
   "outputs": [],
   "source": [
    "test_predictions=model.predict_classes(x_test_scaled.reshape(28000,28,28,1))"
   ]
  },
  {
   "cell_type": "code",
   "execution_count": 214,
   "metadata": {},
   "outputs": [
    {
     "data": {
      "text/plain": [
       "array([2, 0, 9, ..., 3, 9, 2], dtype=int64)"
      ]
     },
     "execution_count": 214,
     "metadata": {},
     "output_type": "execute_result"
    }
   ],
   "source": [
    "test_predictions"
   ]
  },
  {
   "cell_type": "code",
   "execution_count": 215,
   "metadata": {},
   "outputs": [],
   "source": [
    "output=pd.DataFrame({'ImageId':test.index+1,'Label':test_predictions})\n",
    "output.to_csv('new_submission.csv',index=False)"
   ]
  },
  {
   "cell_type": "code",
   "execution_count": null,
   "metadata": {},
   "outputs": [],
   "source": []
  }
 ],
 "metadata": {
  "kernelspec": {
   "display_name": "Python 3",
   "language": "python",
   "name": "python3"
  },
  "language_info": {
   "codemirror_mode": {
    "name": "ipython",
    "version": 3
   },
   "file_extension": ".py",
   "mimetype": "text/x-python",
   "name": "python",
   "nbconvert_exporter": "python",
   "pygments_lexer": "ipython3",
   "version": "3.8.3"
  }
 },
 "nbformat": 4,
 "nbformat_minor": 4
}
